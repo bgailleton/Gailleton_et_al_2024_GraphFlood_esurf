{
 "cells": [
  {
   "cell_type": "markdown",
   "id": "8d37b8db-a1de-4f92-9913-589d0629fc0f",
   "metadata": {},
   "source": [
    "# GraphFlood example\n",
    "\n",
    "This example explains how to use the \"full\" method to calculate flow depth and discharge on a DEM from precipitation rates"
   ]
  },
  {
   "cell_type": "code",
   "execution_count": null,
   "id": "3b6bfa58-25bf-45be-927a-579bf4691033",
   "metadata": {},
   "outputs": [],
   "source": [
    "import scabbard as scb\n",
    "import dagger as dag\n",
    "import numpy as np\n",
    "import matplotlib.pyplot as plt\n",
    "import math as m\n",
    "import matplotlib\n",
    "import random\n",
    "from scipy.ndimage import gaussian_filter\n",
    "from scabbard import ModelHelper, PlotHelper\n",
    "%matplotlib widget\n",
    "\n",
    "# Name of the DEM to load\n",
    "fnamedem = \"dem.tif\"\n",
    "\n",
    "# Graphflood object\n",
    "mod = ModelHelper()\n",
    "\n",
    "# precipitation rates in m/s\n",
    "# P = 1e-4\n",
    "# P = 2.7778e-6 #  => 10 mm/h\n",
    "# P = 2.7778e-6/2 #  => 5 mm/h\n",
    "# P = 5.5556e-6 #  => 20 mm/h\n",
    "# P = 1.3889e-5 # => 30\n",
    "# P = 1.1111e-5 # => 40 mm/h\n",
    "# P = 1.3889e-5 # => 50 mm/h\n",
    "# P = 2.7778e-5 # => 100 mm/h\n",
    "\n",
    "P = 8.333e-6 # Precipitation rate in m/s (this is super high just for fun)\n",
    "P = 50 * 1e-3/3600\n",
    "mod.init_dem_model(fnamedem, sea_level = 0., P = P) \n",
    "\n",
    "# Use CFL conditions to adapt timestep\n",
    "mod.courant = True\n",
    "mod.min_courant_dt = 1e-6 # Minimum timestep if CFL dt\n",
    "mod.courant_number = 0.04 # Courant number modulates dt: higher courant = higher dt. Depends on many things (dx, P, ...)\n",
    "\n",
    "# if courant is False, this will be used as time step\n",
    "mod.dt = 5e-3\n",
    "\n",
    "# Stationary = run to equillibrium\n",
    "# Stationary = False propagate a trasient flood wave (the model has not been developped for that though)\n",
    "mod.stationary = True \n",
    "\n",
    "# manning friction coeff, 0.033 is an OK value for open flow in channels:\n",
    "mod.mannings = 0.033\n",
    "\n",
    "# Single flow solver or Multiple flow solver?\n",
    "# SFD: faster, less accurate\n",
    "# MFD: slower, more accurate and prettier\n",
    "mod.SFD = False\n",
    "\n",
    "# Plot a dynamic figure (also works outside of jupyter)\n",
    "ph = PlotHelper(mod, jupyter = True)\n",
    "ph.init_hw_plot(use_extent = True, vmax = 0.6)"
   ]
  },
  {
   "cell_type": "code",
   "execution_count": null,
   "id": "3206c333-cd9d-4892-bd2a-665659082a65",
   "metadata": {},
   "outputs": [],
   "source": [
    "# Update the above figure every X timesteps\n",
    "update_fig = 20\n",
    "# Total number of run for this time step\n",
    "Ndt = 10000\n",
    "for i in range(Ndt):\n",
    "    # Run one dt\n",
    "    mod.run()\n",
    "    if(i % update_fig > 0):\n",
    "        continue\n",
    "    print(i, end = '\\r')\n",
    "    # Update figure\n",
    "    ph.update()"
   ]
  },
  {
   "cell_type": "markdown",
   "id": "7332769b-10c7-423b-9604-6179d532aae6",
   "metadata": {},
   "source": [
    "# Custom plot\n",
    "\n",
    "The following example shows how to get the field of flow depth from the model and visualise it with matplotlib"
   ]
  },
  {
   "cell_type": "code",
   "execution_count": null,
   "id": "5151b905-0c62-4ef6-a0bf-83c95496200e",
   "metadata": {},
   "outputs": [],
   "source": [
    "#Getting the actual 2D array of flow depth\n",
    "flow_depth = mod.hw\n",
    "\n",
    "flow_depth[flow_depth < 0.05] = np.nan\n",
    "\n",
    "fig, ax = plt.subplots(figsize = (8,8))\n",
    "imhs = ax.imshow(mod.grid.hillshade, extent = mod.grid.extent(), cmap = 'gray') # plots an hiilshade of the relief. you can also access elevation with mod.grid.Z2D\n",
    "imhw = ax.imshow(flow_depth, cmap = \"Blues\", extent = mod.grid.extent(), vmin = 0, vmax = 1)\n",
    "plt.colorbar(imhw, label = r\"$h_W$ (m)\")\n",
    "ax.set_xlabel(\"Easting (m)\")\n",
    "ax.set_ylabel(\"Northing (m)\")\n",
    "plt.tight_layout()"
   ]
  },
  {
   "cell_type": "code",
   "execution_count": null,
   "id": "d78ab683-cf6e-4548-85b2-c8665b213b9c",
   "metadata": {},
   "outputs": [],
   "source": []
  }
 ],
 "metadata": {
  "kernelspec": {
   "display_name": "Python 3 (ipykernel)",
   "language": "python",
   "name": "python3"
  },
  "language_info": {
   "codemirror_mode": {
    "name": "ipython",
    "version": 3
   },
   "file_extension": ".py",
   "mimetype": "text/x-python",
   "name": "python",
   "nbconvert_exporter": "python",
   "pygments_lexer": "ipython3",
   "version": "3.10.8"
  }
 },
 "nbformat": 4,
 "nbformat_minor": 5
}
