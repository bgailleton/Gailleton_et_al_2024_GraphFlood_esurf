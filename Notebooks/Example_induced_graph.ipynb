{
 "cells": [
  {
   "cell_type": "markdown",
   "id": "68ee7119-3251-48c8-9747-dd5493e6c8c9",
   "metadata": {},
   "source": [
    "# Induced Graph method\n",
    "\n",
    "This notebook demonstrates the speed-up achieved by the induced sub-graph method as described in the discussion.\n"
   ]
  },
  {
   "cell_type": "code",
   "execution_count": null,
   "id": "a35fe9d5-0a1d-4ce9-8944-f894f8a8449b",
   "metadata": {},
   "outputs": [],
   "source": [
    "import scabbard as scb\n",
    "import dagger as dag\n",
    "import numpy as np\n",
    "import matplotlib.pyplot as plt\n",
    "import math as m\n",
    "import matplotlib\n",
    "import random\n",
    "from scipy.ndimage import gaussian_filter\n",
    "import time\n",
    "\n",
    "%matplotlib widget\n"
   ]
  },
  {
   "cell_type": "code",
   "execution_count": null,
   "id": "932e2354-f76e-4568-a81b-9882f981748f",
   "metadata": {},
   "outputs": [],
   "source": [
    "# Loading the model\n",
    "env = scb.env_from_DEM(\"dem.tif\")\n",
    "env.init_connector()\n",
    "env.init_GF2()\n",
    "\n",
    "#setting the precipitation rates\n",
    "env.graphflood.set_uniform_P(50 * 1e-3/3600)\n",
    "env.graphflood.init()\n",
    "\n",
    "# Setting the threshold for initiating the rivers (the threshold is 0.1 m^3/s)\n",
    "env.graphflood.compute_entry_points_from_P(0.1)\n",
    "\n",
    "#time step\n",
    "env.graphflood.set_dt(5e-3)\n"
   ]
  },
  {
   "cell_type": "code",
   "execution_count": null,
   "id": "4e9594b5-93a9-445f-a919-3c5df21bd166",
   "metadata": {},
   "outputs": [],
   "source": [
    "fig,ax = env.grid.baseplot(figsize = (12,12), alpha_hs=1., colorbar=None)\n",
    "try:\n",
    "    imhw = ax.imshow(env.data.get_hw().reshape(env.grid.rshp), alpha = 0.6, cmap = \"Blues\", vmin =0., vmax = 0.5, extent = env.grid.extent())\n",
    "except:\n",
    "    imhw = ax.imshow(np.zeros_like(env.grid.Z2D), alpha = 0.6, cmap = \"Blues\", vmin =0., vmax = 0.5, extent = env.grid.extent())\n",
    "plt.colorbar(imhw, label = \"$h_w (m)$\")"
   ]
  },
  {
   "cell_type": "code",
   "execution_count": null,
   "id": "a494d764-ef89-4bff-b746-8e99003c2a7c",
   "metadata": {},
   "outputs": [],
   "source": [
    "updatefig = 100\n",
    "\n",
    "env.graphflood.prepare_tsg()\n",
    "for i in range(5000):\n",
    "\n",
    "\n",
    "    env.graphflood.run()\n",
    "\n",
    "    if(i%updatefig == 0):\n",
    "        print(i,end = \"\\r\")\n",
    "        # env.graphflood.compute_entry_points_from_P(0.5)\n",
    "        imhw.set_data(env.data.get_hw().reshape(env.grid.rshp))\n",
    "        fig.canvas.draw()\n",
    "        time.sleep(0.001)"
   ]
  },
  {
   "cell_type": "markdown",
   "id": "b14fc670-979f-4219-bd95-b463de5526e8",
   "metadata": {},
   "source": [
    "# Getting the data out of the model:"
   ]
  },
  {
   "cell_type": "code",
   "execution_count": null,
   "id": "364ce28d-7e3f-4577-aae1-c98631f87f12",
   "metadata": {},
   "outputs": [],
   "source": [
    "hw = env.data.get_hw().reshape(env.grid.rshp)\n",
    "Qwi = env.data.get_Qwin().reshape(env.grid.rshp)\n",
    "Qwo = env.data.get_Qwout().reshape(env.grid.rshp)"
   ]
  },
  {
   "cell_type": "code",
   "execution_count": null,
   "id": "597041c6-1b1f-455a-978b-3ef5e9f5544e",
   "metadata": {},
   "outputs": [],
   "source": []
  },
  {
   "cell_type": "code",
   "execution_count": null,
   "id": "629d3ade-722e-46c5-aa21-dc0ccdba2e97",
   "metadata": {},
   "outputs": [],
   "source": []
  },
  {
   "cell_type": "code",
   "execution_count": null,
   "id": "dc635c99-1987-4c4c-95df-c5faa7a2552b",
   "metadata": {},
   "outputs": [],
   "source": []
  },
  {
   "cell_type": "code",
   "execution_count": null,
   "id": "9c3015b3-72be-4ef6-a597-83feb0ec698b",
   "metadata": {},
   "outputs": [],
   "source": []
  },
  {
   "cell_type": "code",
   "execution_count": null,
   "id": "9ca63d76-1a42-4c9d-a34a-1a349fefc5e7",
   "metadata": {},
   "outputs": [],
   "source": []
  }
 ],
 "metadata": {
  "kernelspec": {
   "display_name": "Python 3 (ipykernel)",
   "language": "python",
   "name": "python3"
  },
  "language_info": {
   "codemirror_mode": {
    "name": "ipython",
    "version": 3
   },
   "file_extension": ".py",
   "mimetype": "text/x-python",
   "name": "python",
   "nbconvert_exporter": "python",
   "pygments_lexer": "ipython3",
   "version": "3.11.10"
  }
 },
 "nbformat": 4,
 "nbformat_minor": 5
}
