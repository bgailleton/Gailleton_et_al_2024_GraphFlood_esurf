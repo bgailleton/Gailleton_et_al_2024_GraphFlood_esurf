{
 "cells": [
  {
   "cell_type": "markdown",
   "id": "6fbfdb1f-e1e0-4e32-9dee-c87d87f0d919",
   "metadata": {},
   "source": [
    "# GraphFlood: Local inputs\n",
    "\n",
    "This example shows how to use vanilla Graphflood with discrete localised source of water.\n",
    "We use as input a DEM displaying a river flowing from South to North. It involves setting up boundary conditions, and localise water inflow."
   ]
  },
  {
   "cell_type": "markdown",
   "id": "4c5cc5cd-6bcf-43d1-9a6b-c6d36004bf30",
   "metadata": {},
   "source": [
    "## Setting up the model structure"
   ]
  },
  {
   "cell_type": "code",
   "execution_count": null,
   "id": "19f57dc8-d8c8-492a-9811-0974e7222f9b",
   "metadata": {},
   "outputs": [],
   "source": [
    "import scabbard as scb\n",
    "import dagger as dag\n",
    "import numpy as np\n",
    "import matplotlib.pyplot as plt\n",
    "import math as m\n",
    "import matplotlib\n",
    "import random\n",
    "from scipy.ndimage import gaussian_filter\n",
    "from scabbard import ModelHelper, PlotHelper\n",
    "%matplotlib widget\n",
    "\n",
    "# Name of the DEM to load\n",
    "fnamedem = \"dem_section.tif\"\n",
    "\n",
    "# Graphflood object\n",
    "mod = ModelHelper()\n",
    "\n",
    "# precipitation rates in m/s\n",
    "# Setting it to no precipitation\n",
    "P = 0.\n",
    "\n",
    "# initialising model\n",
    "mod.init_dem_model(fnamedem, sea_level = 0., P = P)\n",
    "\n",
    "# #IMPORTANT, in a cell bellow, I explain that boundary conditions can be a problem when flow manages to output the model close to where flow is inputted\n",
    "# # Uncomment these to force the code to only being able to output at the North boundary, to block all the E/W boundaries and to force the S to only input flow (cannot leave the model From there)\n",
    "# ## Initialising boundary to all normal nodes (this will crash if you leave the edges as normal nodes)\n",
    "# BCs = np.ones((mod.grid.ny,mod.grid.nx), dtype = np.uint8) # -> note the dtype is unsigned integer 8 bits\n",
    "# ## Setting all the nodes of the left and right columns to no data \n",
    "# BCs[:, [0,-1]] = 0\n",
    "# ## first Row, North, to only outflow\n",
    "# BCs[0,:] = 3\n",
    "# ## last Row, South, to only inflow\n",
    "# BCs[-1,:] = 7\n",
    "# ## Reinitialise the model with new BCS -> be careful to do that before setting other parameter otherwise they might get overwritten\n",
    "# mod.init_dem_model(fnamedem, sea_level = 0., P = P, BCs = BCs)\n",
    "\n",
    "\n",
    "\n",
    "# Use CFL conditions to adapt timestep\n",
    "mod.courant = False\n",
    "mod.min_courant_dt = 1e-6 # Minimum timestep if CFL dt\n",
    "mod.courant_number = 0.04 # Courant number modulates dt: higher courant = higher dt. Depends on many things (dx, P, ...)\n",
    "\n",
    "# if courant is False, this will be used as time step\n",
    "mod.dt = 1e-3\n",
    "\n",
    "# Stationary = run to equillibrium\n",
    "# Stationary = False propagate a trasient flood wave (the model has not been developped for that though)\n",
    "mod.stationary = True \n",
    "\n",
    "# manning friction coeff, 0.033 is an OK value for open flow in channels:\n",
    "mod.mannings = 0.033\n",
    "\n",
    "# Single flow solver or Multiple flow solver?\n",
    "# SFD: faster, less accurate\n",
    "# MFD: slower, more accurate and prettier\n",
    "mod.SFD = False"
   ]
  },
  {
   "cell_type": "markdown",
   "id": "ab392df4-54f3-4a64-a92c-1a7aaa62fe90",
   "metadata": {},
   "source": [
    "## Setting the water influx\n",
    "\n",
    "To set the water flux, we need to identify nodes where we will input water.\n",
    "We will simply plot the DEM and find their row/col index. Here we want to add them in the South (last row so -1)\n"
   ]
  },
  {
   "cell_type": "code",
   "execution_count": null,
   "id": "ee48db4e-01d0-44c1-a3ee-7352a66afffe",
   "metadata": {},
   "outputs": [],
   "source": [
    "fig,ax = plt.subplots()\n",
    "ax.imshow(mod.grid.Z2D, cmap = 'terrain')\n",
    "ax.imshow(mod.grid.hillshade, cmap = 'gray', alpha = 0.4)"
   ]
  },
  {
   "cell_type": "code",
   "execution_count": null,
   "id": "102adaad-5957-480e-950a-f69f7b5f3fa7",
   "metadata": {},
   "outputs": [],
   "source": [
    "# creating a 1D vectorised indices and reshaping it to 2D\n",
    "indices = np.arange(mod.grid.nx * mod.grid.ny).reshape(mod.grid.rshp)\n",
    "\n",
    "# creating an array of node where you want to input water (array[row_idx,col_idx] will give the node index of the required node)\n",
    "# to get these I recommend plotting an imshow in a separate cell (like above) without the extent keyword then you can use the widget to zoom on the node you need and input their row (y starting from the top) and col (x starting from the left):\n",
    "# Here, I am selecting all the nodes of columns 80 to 90 of the last row\n",
    "input_nodes = np.array([\n",
    "    indices[-1,80:90],\n",
    "]).astype(np.int32) # that last bit is just to ensure the data is in the right format -> 32 bits signed integer\n",
    "\n",
    "# Total discharge to input to the model via that boundary\n",
    "total_Qw_in = 5 # m^3/s\n",
    "\n",
    "# Spreading that discharge uniformally over all the pixels. Alternatively you can manually set a discharge per pixel as long as input_values as the same dimension than total_Qw_in\n",
    "input_values = total_Qw_in/input_nodes.shape[0] * np.ones_like(input_nodes).astype(np.float64)\n",
    "\n",
    "# Important: model accept values as flow depth per second. So your volumetric discharge divided by the cell area\n",
    "input_values /= mod.grid.dx*mod.grid.dy\n",
    "\n",
    "# Adding the flow to the model\n",
    "mod.gf.flood.set_water_input_by_entry_points(input_values,input_nodes)\n",
    "\n",
    "# IMPORTANT CONSIDERATION: the nodes in input_nodes can only input flow which cannot leave the model through these boundaries\n",
    "# In case you want to block boundaries, one can hackily block flow with artificial walls by modifying the raster\n",
    "# A cleaner way, yet more complicated means changing boundary conditions. Each pixel in the model has a boundary code: 0 = no data, 1 = normal internal node, 3 = can_out and 7 = input (there are many others but let's keep to them)\n",
    "# See the first cell for an example of the latter\n",
    "\n",
    "\n",
    "mod.gf.flood.set_water_input_by_entry_points(input_values,input_nodes)\n",
    "\n",
    "# Plot a dynamic figure (also works outside of jupyter)\n",
    "ph = PlotHelper(mod, jupyter = True)\n",
    "ph.init_hw_plot(use_extent = True, vmax = 1.5)"
   ]
  },
  {
   "cell_type": "code",
   "execution_count": null,
   "id": "7722b014-ce47-4483-b651-56ff59e9cc34",
   "metadata": {},
   "outputs": [],
   "source": [
    "# Update the above figure every X timesteps\n",
    "update_fig = 20\n",
    "# Total number of run for this time step\n",
    "Ndt = 10000\n",
    "for i in range(Ndt):\n",
    "    # Run one dt\n",
    "    mod.run()\n",
    "    if(i % update_fig > 0):\n",
    "        continue\n",
    "    print(i, end = '\\r')\n",
    "    # Update figure\n",
    "    ph.update()"
   ]
  },
  {
   "cell_type": "markdown",
   "id": "11fb1db0-411f-461d-acc1-3607b2fd2944",
   "metadata": {},
   "source": [
    "## Accessing the data"
   ]
  },
  {
   "cell_type": "code",
   "execution_count": null,
   "id": "727f1bdf-9131-48db-b690-084b944f1b95",
   "metadata": {},
   "outputs": [],
   "source": [
    "# Access data:\n",
    "## Flow depth\n",
    "hw = mod.hw\n",
    "## Discharge in (needs reshaping in 2D)\n",
    "Qwi = mod.gf.flood.get_Qwin().reshape(mod.grid.rshp)\n",
    "## Discharge out (needs reshaping in 2D) -> Should be roughly equal to Qwin if the model converges correctly as we made the steady-flow assumption\n",
    "Qwo = mod.gf.flood.compute_tuqQ(3).reshape(mod.grid.rshp)\n",
    "## Discharge per unit width:\n",
    "qw = mod.gf.flood.compute_tuqQ(2).reshape(mod.grid.rshp)\n",
    "## flow velocity:\n",
    "uw = mod.gf.flood.compute_tuqQ(1).reshape(mod.grid.rshp)\n",
    " "
   ]
  },
  {
   "cell_type": "markdown",
   "id": "de4bb841-b874-4354-83a6-0ab9eb764e97",
   "metadata": {},
   "source": [
    "### Quick example to plot them"
   ]
  },
  {
   "cell_type": "code",
   "execution_count": null,
   "id": "c728e5a8-7e87-43cb-be7d-8128bb9ac2ff",
   "metadata": {},
   "outputs": [],
   "source": [
    "fig,ax = plt.subplots()\n",
    "im = ax.imshow(uw, cmap = 'magma', extent = mod.grid.extent())\n",
    "plt.colorbar(im, label = r'$\\vec{u} ~ (m.s^{-1})$')\n",
    "ax.set_xlabel('X (m)')\n",
    "ax.set_ylabel('Y (m)')\n"
   ]
  },
  {
   "cell_type": "markdown",
   "id": "6df76651-a46b-491d-8523-cdb250f8c0c8",
   "metadata": {},
   "source": [
    "Data are sets of numpy 2D array, you can export/save them as such.\n",
    "\n",
    "\n",
    "In case you need georeferenced data it is possible as you just \"replace\" the field of value from yur original DEM with these (use rasterio for example)"
   ]
  },
  {
   "cell_type": "code",
   "execution_count": null,
   "id": "909b2db0-f8b5-40f9-8f3d-ce117e2097f4",
   "metadata": {},
   "outputs": [],
   "source": []
  }
 ],
 "metadata": {
  "kernelspec": {
   "display_name": "Python 3 (ipykernel)",
   "language": "python",
   "name": "python3"
  },
  "language_info": {
   "codemirror_mode": {
    "name": "ipython",
    "version": 3
   },
   "file_extension": ".py",
   "mimetype": "text/x-python",
   "name": "python",
   "nbconvert_exporter": "python",
   "pygments_lexer": "ipython3",
   "version": "3.11.10"
  }
 },
 "nbformat": 4,
 "nbformat_minor": 5
}
